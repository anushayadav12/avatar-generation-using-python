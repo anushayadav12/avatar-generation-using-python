{
  "nbformat": 4,
  "nbformat_minor": 0,
  "metadata": {
    "colab": {
      "provenance": []
    },
    "kernelspec": {
      "name": "python3",
      "display_name": "Python 3"
    },
    "language_info": {
      "name": "python"
    }
  },
  "cells": [
    {
      "cell_type": "code",
      "execution_count": 1,
      "metadata": {
        "id": "w4Gblnsyzqlv"
      },
      "outputs": [],
      "source": [
        "import cv2\n",
        "from PIL import Image\n",
        "import numpy as np"
      ]
    },
    {
      "cell_type": "code",
      "source": [
        "def cartoonize_image(input_path, output_path):\n",
        "    # Read the image\n",
        "    img = cv2.imread(\"img.jpeg\") #Fixed: Pass input_path to imread\n",
        "\n",
        "    # Convert to gray scale\n",
        "    gray = cv2.cvtColor(img, cv2.COLOR_BGR2GRAY)\n",
        "\n",
        "    # Apply median blur\n",
        "    gray = cv2.medianBlur(gray, 5)\n",
        "\n",
        "    # Detect edges\n",
        "    edges = cv2.adaptiveThreshold(gray, 255,\n",
        "                                  cv2.ADAPTIVE_THRESH_MEAN_C,\n",
        "                                  cv2.THRESH_BINARY, 9, 9)\n",
        "\n",
        "    # Apply bilateral filter to smooth the image\n",
        "    color = cv2.bilateralFilter(img, 9, 300, 300)\n",
        "\n",
        "    # Combine edges and smoothed image\n",
        "    cartoon = cv2.bitwise_and(color, color, mask=edges)\n",
        "\n",
        "    # Save the output\n",
        "    cv2.imwrite(output_path, cartoon)\n",
        "\n",
        "# Example usage\n",
        "cartoonize_image('input_image.jpg', 'output_avatar.jpg')"
      ],
      "metadata": {
        "id": "5x6o6JqN3HHe"
      },
      "execution_count": 20,
      "outputs": []
    },
    {
      "cell_type": "code",
      "source": [
        "def cartoonize_image(input_path, output_path):\n",
        "    # Read the image\n",
        "    img = cv2.imread(\"img1.jpeg\") #Fixed: Pass input_path to imread\n",
        "\n",
        "    # Convert to gray scale\n",
        "    gray = cv2.cvtColor(img, cv2.COLOR_BGR2GRAY)\n",
        "\n",
        "    # Apply median blur\n",
        "    gray = cv2.medianBlur(gray, 5)\n",
        "\n",
        "    # Detect edges\n",
        "    edges = cv2.adaptiveThreshold(gray, 255,\n",
        "                                  cv2.ADAPTIVE_THRESH_MEAN_C,\n",
        "                                  cv2.THRESH_BINARY, 9, 9)\n",
        "\n",
        "    # Apply bilateral filter to smooth the image\n",
        "    color = cv2.bilateralFilter(img, 9, 300, 300)\n",
        "\n",
        "    # Combine edges and smoothed image\n",
        "    cartoon = cv2.bitwise_and(color, color, mask=edges)\n",
        "\n",
        "    # Save the output\n",
        "    cv2.imwrite(output_path, cartoon)\n",
        "\n",
        "# Example usage\n",
        "cartoonize_image('input_image.jpg', 'output_avatar1.jpg')"
      ],
      "metadata": {
        "id": "NVabSAkK4X4F"
      },
      "execution_count": 19,
      "outputs": []
    },
    {
      "cell_type": "code",
      "source": [
        "def cartoonize_image(input_path, output_path):\n",
        "    # Read the image\n",
        "    img = cv2.imread(\"img2.jpeg\") #Fixed: Pass input_path to imread\n",
        "\n",
        "    # Convert to gray scale\n",
        "    gray = cv2.cvtColor(img, cv2.COLOR_BGR2GRAY)\n",
        "\n",
        "    # Apply median blur\n",
        "    gray = cv2.medianBlur(gray, 5)\n",
        "\n",
        "    # Detect edges\n",
        "    edges = cv2.adaptiveThreshold(gray, 255,\n",
        "                                  cv2.ADAPTIVE_THRESH_MEAN_C,\n",
        "                                  cv2.THRESH_BINARY, 9, 9)\n",
        "\n",
        "    # Apply bilateral filter to smooth the image\n",
        "    color = cv2.bilateralFilter(img, 9, 300, 300)\n",
        "\n",
        "    # Combine edges and smoothed image\n",
        "    cartoon = cv2.bitwise_and(color, color, mask=edges)\n",
        "\n",
        "    # Save the output\n",
        "    cv2.imwrite(output_path, cartoon)\n",
        "\n",
        "# Example usage\n",
        "cartoonize_image('input_image.jpg', 'output_avatar2.jpg')"
      ],
      "metadata": {
        "id": "f_d9tseS4znB"
      },
      "execution_count": 21,
      "outputs": []
    },
    {
      "cell_type": "code",
      "source": [
        "def cartoonize_image(input_path, output_path):\n",
        "    # Read the image\n",
        "    img = cv2.imread(\"img3.jpeg\") #Fixed: Pass input_path to imread\n",
        "\n",
        "    # Convert to gray scale\n",
        "    gray = cv2.cvtColor(img, cv2.COLOR_BGR2GRAY)\n",
        "\n",
        "    # Apply median blur\n",
        "    gray = cv2.medianBlur(gray, 5)\n",
        "\n",
        "    # Detect edges\n",
        "    edges = cv2.adaptiveThreshold(gray, 255,\n",
        "                                  cv2.ADAPTIVE_THRESH_MEAN_C,\n",
        "                                  cv2.THRESH_BINARY, 9, 9)\n",
        "\n",
        "    # Apply bilateral filter to smooth the image\n",
        "    color = cv2.bilateralFilter(img, 9, 300, 300)\n",
        "\n",
        "    # Combine edges and smoothed image\n",
        "    cartoon = cv2.bitwise_and(color, color, mask=edges)\n",
        "\n",
        "    # Save the output\n",
        "    cv2.imwrite(output_path, cartoon)\n",
        "\n",
        "# Example usage\n",
        "cartoonize_image('input_image.jpg', 'output_avatar3.jpg')"
      ],
      "metadata": {
        "id": "Bio-sQYZ4zd1"
      },
      "execution_count": 22,
      "outputs": []
    },
    {
      "cell_type": "code",
      "source": [
        "def cartoonize_image(input_path, output_path):\n",
        "    # Read the image\n",
        "    img = cv2.imread(\"img4.jpeg\") #Fixed: Pass input_path to imread\n",
        "\n",
        "    # Convert to gray scale\n",
        "    gray = cv2.cvtColor(img, cv2.COLOR_BGR2GRAY)\n",
        "\n",
        "    # Apply median blur\n",
        "    gray = cv2.medianBlur(gray, 5)\n",
        "\n",
        "    # Detect edges\n",
        "    edges = cv2.adaptiveThreshold(gray, 255,\n",
        "                                  cv2.ADAPTIVE_THRESH_MEAN_C,\n",
        "                                  cv2.THRESH_BINARY, 9, 9)\n",
        "\n",
        "    # Apply bilateral filter to smooth the image\n",
        "    color = cv2.bilateralFilter(img, 9, 300, 300)\n",
        "\n",
        "    # Combine edges and smoothed image\n",
        "    cartoon = cv2.bitwise_and(color, color, mask=edges)\n",
        "\n",
        "    # Save the output\n",
        "    cv2.imwrite(output_path, cartoon)\n",
        "\n",
        "# Example usage\n",
        "cartoonize_image('input_image.jpg', 'output_avatar4.jpg')"
      ],
      "metadata": {
        "id": "eRmO_xf45Jlg"
      },
      "execution_count": 23,
      "outputs": []
    }
  ]
}